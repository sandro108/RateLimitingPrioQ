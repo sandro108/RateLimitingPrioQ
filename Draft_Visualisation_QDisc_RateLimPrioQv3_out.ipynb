{
 "cells": [
  {
   "cell_type": "markdown",
   "id": "c9893689",
   "metadata": {},
   "source": [
    "## The request output part \n",
    "First experiment with 50 requests in total, 4 requests were rejected (not enqueued) \n",
    "With a probability of appr. 70% + 10%, user 2 requests arrived. The rest was left to users 0 and 1.\n",
    "```\n",
    "double rNum = random.nextDouble();\n",
    "if (rNum > 0.3) {                               # 70% user 2\n",
    "    user = new User(2, ++cnt);\n",
    "else\n",
    "    user = new User(random.nextInt(3), ++cnt);  # 10% user 2\n",
    "```"
   ]
  },
  {
   "cell_type": "code",
   "execution_count": 2,
   "id": "3623b2d2",
   "metadata": {},
   "outputs": [],
   "source": [
    "import numpy as np\n",
    "import matplotlib.pyplot as plt"
   ]
  },
  {
   "cell_type": "markdown",
   "id": "2a9b26b3",
   "metadata": {},
   "source": [
    "### This is a legend to the data in the csv files:"
   ]
  },
  {
   "cell_type": "code",
   "execution_count": 3,
   "id": "4a22ff13",
   "metadata": {},
   "outputs": [],
   "source": [
    "# IN,  1,     2,1852440846143583, 0,    1,         1\n",
    "#\n",
    "#  0,  1  ,   2  ,   3    ,   4   ,     5    ,     6\n",
    "#\n",
    "# IN, round, UID, arriTime, deqTime, prioQed,  requestID\n",
    "\n",
    "#\n",
    "#prioQed legend:\n",
    "# F ---> 0    #Fast Queue\n",
    "# S ---> 1    #Slow Queue\n",
    "# R ---> 2    #Rejected (not enqueued)"
   ]
  },
  {
   "cell_type": "code",
   "execution_count": 97,
   "id": "83ab0db3",
   "metadata": {},
   "outputs": [],
   "source": [
    "# import csv data TODO\n",
    "\n",
    "exp_no = 1\n",
    "#Exp1: 50 req\n",
    "#rNum > 0.3 for user 2 and user = new User(random.nextInt(3), ++cnt); for the user 0 and 1 AND 2 also!!\n",
    "#data_all = np.genfromtxt(\"sorted_log.2024-08-22T23:20:00.212427.csv\", delimiter=',')\n",
    "\n",
    "exp_no = 2\n",
    "#Exp2: 50 req\n",
    "#rNum > 0.5 for user 2 and user = new User(random.nextInt(2!!!not 3), ++cnt); for the user 0 and 1\n",
    "#data_all = np.genfromtxt(\"sorted_exp2_log.2024-08-29T17:07:01.272412.csv\", delimiter=',')\n",
    "\n",
    "exp_no = 3\n",
    "#Exp3: 500 req\n",
    "#rNum > 0.3 for user 2 and user = new User(random.nextInt(3), ++cnt); for the user 0 and 1 AND 2 also!!\n",
    "#PENALTY_LIMIT = REQUEST_COUNT_LIMIT + 50; //was @ 10\n",
    "#REQUEST_COUNT_LIMIT = 30 //was 5\n",
    "#data_all = np.genfromtxt(\"sorted_exp3_log.2024-08-29T18:56:19.FS_no_R.csv\", delimiter=',')\n",
    "\n",
    "#exp_no = 4\n",
    "#Exp4: 500 req no rejected policy\n",
    "#rNum > 0.3 for user 2 and user = new User(random.nextInt(3), ++cnt); for the user 0 and 1 AND 2 also!!\n",
    "#PENALTY_LIMIT = REQUEST_COUNT_LIMIT + infinity; //means no request will be rejected\n",
    "#REQUEST_COUNT_LIMIT = 30 //was 5\n",
    "#data_all = np.genfromtxt(\"sorted_exp4_log.2024-09-04T12:49:21.csv\", delimiter=',')\n",
    "\n",
    "#exp_no = 5\n",
    "# 500 req no rejected policy\n",
    "#rNum > 0.3 for user 2 and user = new User(random.nextInt(3), ++cnt); for the user 0 and 1 AND 2 also!!\n",
    "#PENALTY_LIMIT = REQUEST_COUNT_LIMIT + infinity; //means no request will be rejected\n",
    "#REQUEST_COUNT_LIMIT = 30 //was 5\n",
    "#swapQ = 10 // was 5\n",
    "#data_all = np.genfromtxt(\"sorted_exp5_log.2024-09-04T18:51:19.csv\", delimiter=',')\n",
    "\n",
    "exp_no = 6\n",
    "# 500 req no rejected policy\n",
    "#rNum > 0.3 for user 2 and user = new User(random.nextInt(3), ++cnt); for the user 0 and 1 AND 2 also!!\n",
    "#PENALTY_LIMIT = REQUEST_COUNT_LIMIT + infinity; //means no request will be rejected\n",
    "#REQUEST_COUNT_LIMIT = 30 //was 5\n",
    "#swapQ = 30 // was 10\n",
    "data_all = np.genfromtxt(\"sorted_exp6_log.2024-09-04T19:17:07.csv\", delimiter=',')\n",
    "\n",
    "exp_no = 7\n",
    "# 500 req no rejected policy\n",
    "#rNum > 0.6 for user 2 and user = new User(random.nextInt(3), ++cnt); for the user 0 and 1 AND 2 also!!\n",
    "#PENALTY_LIMIT = REQUEST_COUNT_LIMIT + infinity; //means no request will be rejected\n",
    "#REQUEST_COUNT_LIMIT = 30 //was 5\n",
    "#swapQ = 30 // was 10\n",
    "data_all = np.genfromtxt(\"sorted_exp7_log.2024-09-04T19:25:26.csv\", delimiter=',')\n",
    "\n",
    "exp_no = 8\n",
    "# 1000 req no rejected policy\n",
    "#rNum > 0.6 for user 2 and user = new User(random.nextInt(2), ++cnt); for the user 0 and 1 \n",
    "#PENALTY_LIMIT = REQUEST_COUNT_LIMIT + infinity; //means no request will be rejected\n",
    "#REQUEST_COUNT_LIMIT = 30 //was 5\n",
    "#swapQ = 50 // was 30\n",
    "data_all = np.genfromtxt(\"sorted_exp8_log.2024-09-04T19:35:15.csv\", delimiter=',')\n",
    "\n"
   ]
  },
  {
   "cell_type": "code",
   "execution_count": 98,
   "id": "5a407246",
   "metadata": {},
   "outputs": [
    {
     "data": {
      "text/plain": [
       "0"
      ]
     },
     "execution_count": 98,
     "metadata": {},
     "output_type": "execute_result"
    }
   ],
   "source": [
    "#num_rejected = [ i for i in range(len(data_all)) if data_all[i, 5] == \"F\"]\n",
    "num_rejected = 0\n",
    "for i in range(len(data_all)):\n",
    "    if data_all[i, 5] == 2:\n",
    "        num_rejected += 1\n",
    "num_rejected"
   ]
  },
  {
   "cell_type": "code",
   "execution_count": 99,
   "id": "5f7ad367",
   "metadata": {},
   "outputs": [
    {
     "data": {
      "text/plain": [
       "(348826873.0, 1999, 546242791236292.0, 546242442409419.0)"
      ]
     },
     "execution_count": 99,
     "metadata": {},
     "output_type": "execute_result"
    }
   ],
   "source": [
    "arri_dq_t = 4   # 3 is cv index for arriTime and 4 is deqTime\n",
    "UID = 2         #csv index for user id\n",
    "total_requests = 500\n",
    "\n",
    "csv_row_upper = (len(data_all) // 2)\n",
    "\n",
    "csv_row_lower = len(data_all)  - 1\n",
    "total_time_OUT =  data_all[csv_row_lower, arri_dq_t] - data_all[csv_row_upper, arri_dq_t]\n",
    "\n",
    "total_time_OUT, csv_row_lower, data_all[csv_row_lower,arri_dq_t], data_all[csv_row_upper, arri_dq_t]"
   ]
  },
  {
   "cell_type": "code",
   "execution_count": 100,
   "id": "c1c2a19d",
   "metadata": {},
   "outputs": [
    {
     "data": {
      "text/plain": [
       "24916205.214285713"
      ]
     },
     "execution_count": 100,
     "metadata": {},
     "output_type": "execute_result"
    }
   ],
   "source": [
    "amount_intervals = 14\n",
    "time_interval = total_time_OUT / amount_intervals\n",
    "time_interval"
   ]
  },
  {
   "cell_type": "code",
   "execution_count": 101,
   "id": "6687e1eb",
   "metadata": {},
   "outputs": [
    {
     "name": "stdout",
     "output_type": "stream",
     "text": [
      "time_interval: \n",
      "0.025 s\n",
      "24.916 ms\n",
      "Total time for dequeueing: \n",
      "0.349 s\n",
      "348.827 ms\n"
     ]
    }
   ],
   "source": [
    "in_secs = time_interval / 1E9\n",
    "in_ms = time_interval / 1E6\n",
    "print(\"time_interval: \\n{} s\\n{} ms\".format(in_secs.round(3), in_ms.round(3)))\n",
    "print\n",
    "print(\"Total time for dequeueing: \\n{} s\\n{} ms\".format(round((total_time_OUT / 1E9),3), round((total_time_OUT / 1E6),3)))"
   ]
  },
  {
   "cell_type": "code",
   "execution_count": 102,
   "id": "c9f5f2f3",
   "metadata": {
    "scrolled": true
   },
   "outputs": [
    {
     "data": {
      "text/plain": [
       "(2000, 2000, 1000, 1000, 1000)"
      ]
     },
     "execution_count": 102,
     "metadata": {},
     "output_type": "execute_result"
    }
   ],
   "source": [
    "len_all = len(data_all)\n",
    "len_clean = len_all - num_rejected\n",
    "len_OUT_part = (len_clean // 2)\n",
    "len_IN_part = csv_row_upper \n",
    "len_all, len_clean, len_IN_part, len_OUT_part, csv_row_upper"
   ]
  },
  {
   "cell_type": "code",
   "execution_count": 103,
   "id": "cfeb7ecb",
   "metadata": {},
   "outputs": [
    {
     "data": {
      "text/plain": [
       "(236.0,\n",
       " 257.0,\n",
       " 508.0,\n",
       " array([23., 14., 17., 18., 22., 23., 23., 19., 21., 20., 14.,  6.,  6.,\n",
       "        10.]),\n",
       " array([17., 20., 27., 24., 20., 22., 26., 18., 16., 17., 17., 12.,  8.,\n",
       "        13.]),\n",
       " array([31., 37., 27., 29., 29., 26., 22., 34., 34., 34., 40., 53., 57.,\n",
       "        55.]),\n",
       " 1001.0)"
      ]
     },
     "execution_count": 103,
     "metadata": {},
     "output_type": "execute_result"
    }
   ],
   "source": [
    "arr0 = np.zeros([amount_intervals])\n",
    "arr1 = np.zeros([amount_intervals])\n",
    "arr2 = np.zeros([amount_intervals])\n",
    "upper_idx = len_OUT_part // amount_intervals\n",
    "lower_bound = data_all[csv_row_upper, arri_dq_t]\n",
    "\n",
    "for k in range(1, amount_intervals + 2): # exceed num of intervals to obtain the latest dequeue time\n",
    "    arr_idx = k\n",
    "    if ((k * upper_idx) + len_OUT_part) > (len_clean - 1): # set upper_bound to latest dequeue time\n",
    "        upper_bound = data_all[(len_clean -1), arri_dq_t]\n",
    "        arr_idx = amount_intervals\n",
    "    else:\n",
    "        upper_bound = data_all[((k * upper_idx) + len_OUT_part), arri_dq_t] # everything below the latest deQ time\n",
    "    #print(k)   \n",
    "    #print(((k * upper_idx) + len_OUT_part))\n",
    "    #print(upper_bound)\n",
    "    for i in range(csv_row_upper, csv_row_upper + len_OUT_part):\n",
    "        time = data_all[i, arri_dq_t]\n",
    "        if k < amount_intervals:\n",
    "            cond1 = (lower_bound <= time < upper_bound)\n",
    "        else:\n",
    "            cond1 = (lower_bound <= time <= upper_bound) #include requests that came latest, too.\n",
    "        if cond1:  \n",
    "            #print(lower_bound, time, upper_bound)\n",
    "            match data_all[i, UID]:\n",
    "                case 0:\n",
    "                    arr0[arr_idx - 1] += 1\n",
    "                case 1:\n",
    "                    arr1[arr_idx - 1] += 1\n",
    "                case 2:\n",
    "                    arr2[arr_idx - 1] += 1\n",
    "    lower_bound = upper_bound\n",
    "    #print(\"--------\")\n",
    "    \n",
    "arr0.sum(), arr1.sum(), arr2.sum(), arr0, arr1, arr2, arr0.sum()+ arr1.sum()+ arr2.sum()\n",
    "        "
   ]
  },
  {
   "cell_type": "code",
   "execution_count": 106,
   "id": "2c887994",
   "metadata": {
    "scrolled": false
   },
   "outputs": [
    {
     "data": {
      "image/png": "[encoded data removed]",
      "text/plain": [
       "<Figure size 1200x800 with 1 Axes>"
      ]
     },
     "metadata": {},
     "output_type": "display_data"
    },
    {
     "data": {
      "text/plain": [
       "(236.0,\n",
       " 257.0,\n",
       " 508.0,\n",
       " array([23., 14., 17., 18., 22., 23., 23., 19., 21., 20., 14.,  6.,  6.,\n",
       "        10.]),\n",
       " array([17., 20., 27., 24., 20., 22., 26., 18., 16., 17., 17., 12.,  8.,\n",
       "        13.]),\n",
       " array([31., 37., 27., 29., 29., 26., 22., 34., 34., 34., 40., 53., 57.,\n",
       "        55.]),\n",
       " 1001.0)"
      ]
     },
     "execution_count": 106,
     "metadata": {},
     "output_type": "execute_result"
    }
   ],
   "source": [
    "\n",
    "x = [i for i in range(amount_intervals)]\n",
    "width=0.25\n",
    "#alpha=0.5\n",
    "ax = plt.figure(figsize=[12, 8])\n",
    "plt.bar(np.arange(len(arr0)) ,arr0, width,align='center', label='User 0' , color='g')\n",
    "plt.bar(np.arange(len(arr1)) + width ,arr1, width, align='center',  label='User 1', color='b')\n",
    "plt.bar(np.arange(len(arr2)) + width*2,arr2, width,align='center',label='User 2' , color='r')\n",
    "plt.xlabel('Time interval')\n",
    "plt.ylabel('Number of dequeued requests')\n",
    "plt.suptitle('Number of dequeued requests over time intervals', fontsize=16)#, y=1.00)\n",
    "plt.ylim(0,60)\n",
    "plt.title('(from three different users) experiment_no:{}'.format(exp_no))\n",
    "plt.xticks(np.arange(len(x)+ width))\n",
    "plt.legend()\n",
    "\n",
    "plt.show()\n",
    "\n",
    "arr0.sum(), arr1.sum(), arr2.sum(),arr0, arr1, arr2, (arr0.sum()+ arr1.sum()+ arr2.sum())"
   ]
  },
  {
   "cell_type": "code",
   "execution_count": null,
   "id": "8f83d56b",
   "metadata": {},
   "outputs": [],
   "source": []
  }
 ],
 "metadata": {
  "kernelspec": {
   "display_name": "Python 3 (ipykernel)",
   "language": "python",
   "name": "python3"
  },
  "language_info": {
   "codemirror_mode": {
    "name": "ipython",
    "version": 3
   },
   "file_extension": ".py",
   "mimetype": "text/x-python",
   "name": "python",
   "nbconvert_exporter": "python",
   "pygments_lexer": "ipython3",
   "version": "3.11.5"
  }
 },
 "nbformat": 4,
 "nbformat_minor": 5
}
