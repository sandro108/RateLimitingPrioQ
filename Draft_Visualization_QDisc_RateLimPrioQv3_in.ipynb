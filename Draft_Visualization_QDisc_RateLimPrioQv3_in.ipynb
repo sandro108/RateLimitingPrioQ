{
 "cells": [
  {
   "cell_type": "markdown",
   "id": "f8ee6422",
   "metadata": {},
   "source": [
    "## The request input part\n",
    "First experiment with 50 requests in total, 4 requests were rejected (not enqueued) \n",
    "With a probability of appr. 70% + 10%, user 2 requests arrived. The rest was left to users 0 and 1.\n",
    "```\n",
    "double rNum = random.nextDouble();\n",
    "if (rNum > 0.3) {                               # 70% user 2\n",
    "    user = new User(2, ++cnt);\n",
    "else\n",
    "    user = new User(random.nextInt(3), ++cnt);  # 10% user 2\n",
    "```"
   ]
  },
  {
   "cell_type": "markdown",
   "id": "82134a5e",
   "metadata": {},
   "source": [
    "# TODO:\n",
    "## 1. Try without cutting off with rejected policy\n",
    "## 2. increase q_swap factor, so to favor fast q"
   ]
  },
  {
   "cell_type": "code",
   "execution_count": 17,
   "id": "3623b2d2",
   "metadata": {},
   "outputs": [],
   "source": [
    "import numpy as np\n",
    "import matplotlib.pyplot as plt"
   ]
  },
  {
   "cell_type": "markdown",
   "id": "dc19f6a2",
   "metadata": {},
   "source": [
    "### This is a legend to the data in the csv files:"
   ]
  },
  {
   "cell_type": "code",
   "execution_count": 18,
   "id": "5a407246",
   "metadata": {},
   "outputs": [],
   "source": [
    "# IN,  1,     2,1852440846143583, 0,    1,         1\n",
    "#\n",
    "#  0,  1  ,   2  ,   3    ,   4   ,     5    ,     6\n",
    "#\n",
    "# IN, round, UID, arriTime, deqTime, prioQed,  requestID\n",
    "\n",
    "#\n",
    "#prioQed legend:\n",
    "# F ---> 0    #Fast Queue\n",
    "# S ---> 1    #Slow Queue\n",
    "# R ---> 2    #Rejected (not enqueued)"
   ]
  },
  {
   "cell_type": "code",
   "execution_count": 19,
   "id": "83ab0db3",
   "metadata": {},
   "outputs": [],
   "source": [
    "# import csv data TODO\n",
    "\n",
    "#exp_no = 1\n",
    "#Exp1: 50 req\n",
    "#rNum > 0.3 for user 2 and user = new User(random.nextInt(3), ++cnt); for the user 0 and 1 AND 2 also!!\n",
    "#data_all = np.genfromtxt(\"sorted_log.2024-08-22T23:20:00.212427.csv\", delimiter=',')\n",
    "\n",
    "#exp_no = 2\n",
    "#Exp2: 50 req\n",
    "#rNum > 0.5 for user 2 and user = new User(random.nextInt(2!!!not 3), ++cnt); for the user 0 and 1\n",
    "#data_all = np.genfromtxt(\"sorted_exp2_log.2024-08-29T17:07:01.272412.csv\", delimiter=',')\n",
    "\n",
    "#exp_no = 3\n",
    "#Exp3: 500 req\n",
    "#rNum > 0.3 for user 2 and user = new User(random.nextInt(3), ++cnt); for the user 0 and 1 AND 2 also!!\n",
    "#PENALTY_LIMIT = REQUEST_COUNT_LIMIT + 50; //was @ 10\n",
    "#REQUEST_COUNT_LIMIT = 30 //was 5\n",
    "#data_all = np.genfromtxt(\"sorted_exp3_log.2024-08-29T18:56:19.FS_no_R.csv\", delimiter=',')\n",
    "\n",
    "exp_no = 4\n",
    "#Exp4: 500 req no rejected policy\n",
    "#rNum > 0.3 for user 2 and user = new User(random.nextInt(3), ++cnt); for the user 0 and 1 AND 2 also!!\n",
    "#PENALTY_LIMIT = REQUEST_COUNT_LIMIT + infinity; //was @ 10\n",
    "#REQUEST_COUNT_LIMIT = 30 //was 5\n",
    "data_all = np.genfromtxt(\"sorted_exp4_log.2024-09-04T12:49:21.csv\", delimiter=',')\n",
    "\n",
    "\n",
    "\n"
   ]
  },
  {
   "cell_type": "code",
   "execution_count": 20,
   "id": "1bcba4d8",
   "metadata": {},
   "outputs": [
    {
     "data": {
      "text/plain": [
       "0"
      ]
     },
     "execution_count": 20,
     "metadata": {},
     "output_type": "execute_result"
    }
   ],
   "source": [
    "#num_rejected = [ i for i in range(len(data_all)) if data_all[i, 5] == \"F\"]\n",
    "num_rejected = 0\n",
    "for i in range(len(data_all)):\n",
    "    if data_all[i, 5] == 2:\n",
    "        num_rejected += 1\n",
    "num_rejected"
   ]
  },
  {
   "cell_type": "code",
   "execution_count": 21,
   "id": "e7fdc0df",
   "metadata": {},
   "outputs": [
    {
     "data": {
      "text/plain": [
       "(206914688.0, 499, 521888535325619.0, 521888328410931.0)"
      ]
     },
     "execution_count": 21,
     "metadata": {},
     "output_type": "execute_result"
    }
   ],
   "source": [
    "with_rejected = False\n",
    "arri_dq_t = 3   # 3 is cv index for arriTime and 4 is deqTime\n",
    "UID = 2         #2 is csv index for user id\n",
    "q_type = 5     # 5 is csv index for the q type (fast, slow, 'rejected')\n",
    "\n",
    "total_requests = 500\n",
    "\n",
    "csv_row_upper = 0\n",
    "if with_rejected:\n",
    "    csv_row_lower = total_requests - 1\n",
    "else:\n",
    "    csv_row_lower = (len(data_all) // 2) -1\n",
    "total_time_IN =  data_all[csv_row_lower, arri_dq_t] - data_all[csv_row_upper, arri_dq_t]\n",
    "\n",
    "total_time_IN, csv_row_lower, data_all[csv_row_lower,arri_dq_t], data_all[csv_row_upper, arri_dq_t]"
   ]
  },
  {
   "cell_type": "code",
   "execution_count": 22,
   "id": "c1c2a19d",
   "metadata": {},
   "outputs": [
    {
     "data": {
      "text/plain": [
       "14779620.57142857"
      ]
     },
     "execution_count": 22,
     "metadata": {},
     "output_type": "execute_result"
    }
   ],
   "source": [
    "amount_intervals = 14\n",
    "time_interval = total_time_IN / amount_intervals\n",
    "time_interval"
   ]
  },
  {
   "cell_type": "code",
   "execution_count": 23,
   "id": "c11e0aa0",
   "metadata": {},
   "outputs": [
    {
     "name": "stdout",
     "output_type": "stream",
     "text": [
      "time_interval: \n",
      "0.015 s\n",
      "14.78 ms\n",
      "Total time for enqueueing: \n",
      "0.207 s\n",
      "206.915 ms\n"
     ]
    }
   ],
   "source": [
    "in_secs = time_interval / 1E9\n",
    "in_ms = time_interval / 1E6\n",
    "print(\"time_interval: \\n{} s\\n{} ms\".format(in_secs.round(3), in_ms.round(3)))\n",
    "print\n",
    "print(\"Total time for enqueueing: \\n{} s\\n{} ms\".format(round((total_time_IN / 1E9),3), round((total_time_IN / 1E6),3)))"
   ]
  },
  {
   "cell_type": "code",
   "execution_count": 24,
   "id": "c9f5f2f3",
   "metadata": {},
   "outputs": [
    {
     "data": {
      "text/plain": [
       "(1000, 1000, 500, 500)"
      ]
     },
     "execution_count": 24,
     "metadata": {},
     "output_type": "execute_result"
    }
   ],
   "source": [
    "len_all = len(data_all)\n",
    "len_clean = len_all - num_rejected\n",
    "len_OUT_part = (len_clean // 2)\n",
    "len_IN_part = csv_row_lower + 1 \n",
    "len_all, len_clean, len_IN_part, len_OUT_part"
   ]
  },
  {
   "cell_type": "code",
   "execution_count": 69,
   "id": "cfeb7ecb",
   "metadata": {},
   "outputs": [
    {
     "name": "stdout",
     "output_type": "stream",
     "text": [
      "521888328410931.0\n",
      "1\n",
      "35\n",
      "521888355081829.0\n",
      "2\n",
      "70\n",
      "521888369195876.0\n",
      "3\n",
      "105\n",
      "521888386233037.0\n",
      "4\n",
      "140\n",
      "521888397428480.0\n",
      "5\n",
      "175\n",
      "521888407932786.0\n",
      "6\n",
      "210\n",
      "521888415824114.0\n",
      "7\n",
      "245\n",
      "521888435188938.0\n",
      "8\n",
      "280\n",
      "521888475929598.0\n",
      "9\n",
      "315\n",
      "521888487507373.0\n",
      "10\n",
      "350\n",
      "521888497803269.0\n",
      "11\n",
      "385\n",
      "521888505890925.0\n",
      "12\n",
      "420\n",
      "521888511737510.0\n",
      "13\n",
      "455\n",
      "521888519498726.0\n",
      "14\n",
      "490\n",
      "521888532470205.0\n",
      "15\n",
      "525\n",
      "521888535325619.0\n"
     ]
    },
    {
     "data": {
      "text/plain": [
       "(41.0,\n",
       " 50.0,\n",
       " 410.0,\n",
       " 0.0,\n",
       " array([3., 1., 4., 2., 5., 2., 2., 1., 3., 1., 4., 4., 5., 4.]),\n",
       " array([6., 3., 3., 0., 1., 4., 1., 7., 5., 9., 5., 2., 0., 4.]),\n",
       " array([26., 31., 28., 33., 29., 29., 32., 27., 27., 25., 26., 29., 30.,\n",
       "        38.]),\n",
       " array([0., 0., 0., 0., 0., 0., 0., 0., 0., 0., 0., 0., 0., 0.]),\n",
       " 501.0)"
      ]
     },
     "execution_count": 69,
     "metadata": {},
     "output_type": "execute_result"
    }
   ],
   "source": [
    "arr0 = np.zeros([amount_intervals])\n",
    "arr1 = np.zeros([amount_intervals])\n",
    "arr2 = np.zeros([amount_intervals])\n",
    "arr3 = np.zeros([amount_intervals]) # number of rejected array\n",
    "upper_idx = len_IN_part // amount_intervals\n",
    "lower_bound = data_all[csv_row_upper, arri_dq_t]\n",
    "\n",
    "for k in range(1, amount_intervals + 2): # exceed num of intervals to obtain the latest dequeue time\n",
    "    arr_idx = k\n",
    "    if ((k * upper_idx)) > (len_IN_part - 1): # set upper_bound to latest dequeue time\n",
    "        upper_bound = data_all[(len_IN_part -1), arri_dq_t]\n",
    "        arr_idx = amount_intervals\n",
    "    else:\n",
    "        upper_bound = data_all[((k * upper_idx)), arri_dq_t] # everything below the latest deQ time\n",
    "    print(k)   \n",
    "    print(((k * upper_idx)))\n",
    "    print(upper_bound)\n",
    "    for i in range(len_IN_part):\n",
    "        time = data_all[i, arri_dq_t]\n",
    "        #print(i, lower_bound, time, upper_bound)\n",
    "        if k < amount_intervals:\n",
    "            cond1 = (lower_bound <= time < upper_bound)\n",
    "        else:\n",
    "            cond1 = (lower_bound <= time <= upper_bound) #include requests that came latest, too.\n",
    "        if cond1:  \n",
    "            match data_all[i,UID]:\n",
    "                case 0:\n",
    "                    if data_all[i,q_type] == 2: # q_type 2 == rejected\n",
    "                        arr3[arr_idx - 1] += 1\n",
    "                        continue\n",
    "                    arr0[arr_idx - 1] += 1\n",
    "                case 1:\n",
    "                    if data_all[i,q_type] == 2:\n",
    "                        arr3[arr_idx - 1] += 1\n",
    "                        continue\n",
    "                    arr1[arr_idx - 1] += 1\n",
    "                case 2:\n",
    "                    if data_all[i,q_type] == 2:\n",
    "                        arr3[arr_idx - 1] += 1\n",
    "                        continue\n",
    "                    arr2[arr_idx - 1] += 1\n",
    "    lower_bound = upper_bound\n",
    "    #print(\"--------\")\n",
    "    \n",
    "arr0.sum(), arr1.sum(), arr2.sum(),arr3.sum(),arr0, arr1, arr2, arr3, arr0.sum()+ arr1.sum()+ arr2.sum()\n",
    "        "
   ]
  },
  {
   "cell_type": "code",
   "execution_count": 72,
   "id": "2c887994",
   "metadata": {
    "scrolled": false
   },
   "outputs": [
    {
     "data": {
      "image/png": "[encoded data removed]",
      "text/plain": [
       "<Figure size 1200x800 with 1 Axes>"
      ]
     },
     "metadata": {},
     "output_type": "display_data"
    },
    {
     "data": {
      "text/plain": [
       "(41.0,\n",
       " 50.0,\n",
       " 410.0,\n",
       " 0.0,\n",
       " array([3., 1., 4., 2., 5., 2., 2., 1., 3., 1., 4., 4., 5., 4.]),\n",
       " array([6., 3., 3., 0., 1., 4., 1., 7., 5., 9., 5., 2., 0., 4.]),\n",
       " array([26., 31., 28., 33., 29., 29., 32., 27., 27., 25., 26., 29., 30.,\n",
       "        38.]),\n",
       " array([0., 0., 0., 0., 0., 0., 0., 0., 0., 0., 0., 0., 0., 0.]))"
      ]
     },
     "execution_count": 72,
     "metadata": {},
     "output_type": "execute_result"
    }
   ],
   "source": [
    "\n",
    "x = [i for i in range(amount_intervals)]\n",
    "width=0.25\n",
    "#alpha=0.5\n",
    "ax = plt.figure(figsize=[12, 8])\n",
    "plt.bar(np.arange(len(arr0)) ,arr0, width,align='center', label='User 0' , color='g')\n",
    "plt.bar(np.arange(len(arr1)) + width ,arr1, width, align='center',  label='User 1', color='b')\n",
    "plt.bar(np.arange(len(arr2)) + width*2,arr2, width,align='center',label='User 2' , color='r')\n",
    "#plt.bar(np.arange(len(arr3)) + width*3,arr3, width,align='center',label='Rejected' , color='black')\n",
    "plt.xlabel('Time interval')\n",
    "plt.ylabel('Number of incoming requests')\n",
    "plt.suptitle('Number of incoming requests over time intervals', fontsize=16)#, y=1.00)\n",
    "plt.title('(from three different users) experiment_no:{}'.format(exp_no))\n",
    "plt.ylim(0,50)\n",
    "plt.xticks(np.arange(len(x)+ width))\n",
    "plt.legend()\n",
    "\n",
    "plt.show()\n",
    "\n",
    "arr0.sum(),arr1.sum(),arr2.sum(),arr3.sum(),arr0, arr1, arr2, arr3"
   ]
  },
  {
   "cell_type": "code",
   "execution_count": 64,
   "id": "8f83d56b",
   "metadata": {},
   "outputs": [
    {
     "name": "stdout",
     "output_type": "stream",
     "text": [
      "1 35\n",
      "2 70\n",
      "3 105\n",
      "4 140\n",
      "5 175\n",
      "6 210\n",
      "7 245\n",
      "8 280\n",
      "9 315\n",
      "10 350\n",
      "11 385\n",
      "12 420\n",
      "13 455\n",
      "14 490\n",
      "15 525\n"
     ]
    }
   ],
   "source": [
    "for i in range(1, amount_intervals + 2):\n",
    "    a = i * (500 // amount_intervals)\n",
    "    print(i, a)"
   ]
  },
  {
   "cell_type": "code",
   "execution_count": null,
   "id": "fa26d20c",
   "metadata": {},
   "outputs": [],
   "source": []
  }
 ],
 "metadata": {
  "kernelspec": {
   "display_name": "Python 3 (ipykernel)",
   "language": "python",
   "name": "python3"
  },
  "language_info": {
   "codemirror_mode": {
    "name": "ipython",
    "version": 3
   },
   "file_extension": ".py",
   "mimetype": "text/x-python",
   "name": "python",
   "nbconvert_exporter": "python",
   "pygments_lexer": "ipython3",
   "version": "3.11.5"
  }
 },
 "nbformat": 4,
 "nbformat_minor": 5
}
