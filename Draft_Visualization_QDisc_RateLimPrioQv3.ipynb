{
 "cells": [
  {
   "cell_type": "code",
   "execution_count": 177,
   "id": "3623b2d2",
   "metadata": {},
   "outputs": [],
   "source": [
    "import numpy as np\n",
    "import matplotlib.pyplot as plt"
   ]
  },
  {
   "cell_type": "markdown",
   "id": "f8ee6422",
   "metadata": {},
   "source": [
    "## The request input part (Exp 1)\n",
    "First experiment with 50 requests in total, 4 requests were rejected (not enqueued) \n",
    "With a probability of appr. 70% + 10%, user 2 requests arrived. The rest was left to users 0 and 1.\n",
    "```\n",
    "double rNum = random.nextDouble();\n",
    "if (rNum > 0.3) {                               # 70% user 2\n",
    "    user = new User(2, ++cnt);\n",
    "else\n",
    "    user = new User(random.nextInt(3), ++cnt);  # 10% user 2\n",
    "```"
   ]
  },
  {
   "cell_type": "markdown",
   "id": "82134a5e",
   "metadata": {},
   "source": [
    "# TODO:\n",
    "## 1. Try without cutting off with rejected policy\n",
    "## 2. increase q_swap factor, so to favor fast q"
   ]
  },
  {
   "cell_type": "markdown",
   "id": "dc19f6a2",
   "metadata": {},
   "source": [
    "### This is a legend to the data in the csv files:"
   ]
  },
  {
   "cell_type": "code",
   "execution_count": 180,
   "id": "5a407246",
   "metadata": {},
   "outputs": [],
   "source": [
    "# IN,  1,     2,1852440846143583, 0,    1,         1\n",
    "#\n",
    "#  0,  1  ,   2  ,   3    ,   4   ,     5    ,     6\n",
    "#\n",
    "# IN, round, UID, arriTime, deqTime, prioQed,  requestID\n",
    "\n",
    "#\n",
    "#prioQed legend:\n",
    "# F ---> 0    #Fast Queue\n",
    "# S ---> 1    #Slow Queue\n",
    "# R ---> 2    #Rejected (not enqueued)"
   ]
  },
  {
   "cell_type": "code",
   "execution_count": 215,
   "id": "83ab0db3",
   "metadata": {},
   "outputs": [],
   "source": [
    "# import csv data TODO\n",
    "\n",
    "#Exp1: 50 req\n",
    "#rNum > 0.3 for user 2 and user = new User(random.nextInt(3), ++cnt); for the user 0 and 1 AND 2 also!!\n",
    "#data_all = np.genfromtxt(\"sorted_log.2024-08-22T23:20:00.212427.csv\", delimiter=',')\n",
    "#num_rejected = 4 # iterate through csv and count 'R's!\n",
    "\n",
    "#Exp2: 50 req\n",
    "#rNum > 0.5 for user 2 and user = new User(random.nextInt(2!!!not 3), ++cnt); for the user 0 and 1\n",
    "#data_all = np.genfromtxt(\"sorted_exp2_log.2024-08-29T17:07:01.272412.csv\", delimiter=',')\n",
    "#num_rejected = 0 # iterate through csv and count 'R's!\n",
    "\n",
    "#Exp3: 500 req\n",
    "#rNum > 0.3 for user 2 and user = new User(random.nextInt(3), ++cnt); for the user 0 and 1 AND 2 also!!\n",
    "#PENALTY_LIMIT = REQUEST_COUNT_LIMIT + 50; //was @ 10\n",
    "#REQUEST_COUNT_LIMIT = 30 //was 5\n",
    "data_all = np.genfromtxt(\"sorted_exp3_log.2024-08-29T18:56:19.FS_no_R.csv\", delimiter=',')\n",
    "#num_rejected = 0 # iterate through csv and count 'R's!"
   ]
  },
  {
   "cell_type": "code",
   "execution_count": 216,
   "id": "1bcba4d8",
   "metadata": {},
   "outputs": [
    {
     "data": {
      "text/plain": [
       "0"
      ]
     },
     "execution_count": 216,
     "metadata": {},
     "output_type": "execute_result"
    }
   ],
   "source": [
    "#num_rejected = [ i for i in range(len(data_all)) if data_all[i, 5] == \"F\"]\n",
    "num_rejected = 0\n",
    "for i in range(len(data_all)):\n",
    "    if data_all[i, 5] == 2:\n",
    "        num_rejected += 1\n",
    "num_rejected"
   ]
  },
  {
   "cell_type": "code",
   "execution_count": 218,
   "id": "e7fdc0df",
   "metadata": {},
   "outputs": [
    {
     "data": {
      "text/plain": [
       "(134016292.0, 279, 2130012757470250.0, 2130012623453958.0)"
      ]
     },
     "execution_count": 218,
     "metadata": {},
     "output_type": "execute_result"
    }
   ],
   "source": [
    "with_rejected = False\n",
    "arri_dq_t = 3   # 3 is cv index for arriTime and 4 is deqTime\n",
    "UID = 2         #csv index for user id\n",
    "\n",
    "total_requests = 500\n",
    "\n",
    "csv_row_upper = 0\n",
    "if with_rejected:\n",
    "    csv_row_lower = total_requests - 1\n",
    "else:\n",
    "    csv_row_lower = (len(data_all) // 2) -1\n",
    "total_time_IN =  data_all[csv_row_lower, arri_dq_t] - data_all[csv_row_upper, arri_dq_t]\n",
    "\n",
    "total_time_IN, csv_row_lower, data_all[csv_row_lower,arri_dq_t], data_all[csv_row_upper, arri_dq_t]"
   ]
  },
  {
   "cell_type": "code",
   "execution_count": 225,
   "id": "c1c2a19d",
   "metadata": {},
   "outputs": [
    {
     "data": {
      "text/plain": [
       "9572592.285714285"
      ]
     },
     "execution_count": 225,
     "metadata": {},
     "output_type": "execute_result"
    }
   ],
   "source": [
    "amount_intervalls = 14\n",
    "time_intervall = total_time_IN / amount_intervalls\n",
    "time_intervall"
   ]
  },
  {
   "cell_type": "code",
   "execution_count": 226,
   "id": "c9f5f2f3",
   "metadata": {},
   "outputs": [
    {
     "data": {
      "text/plain": [
       "(560, 560, 280, 280)"
      ]
     },
     "execution_count": 226,
     "metadata": {},
     "output_type": "execute_result"
    }
   ],
   "source": [
    "len_all = len(data_all)\n",
    "len_clean = len_all - num_rejected\n",
    "len_OUT_part = (len_clean // 2)\n",
    "len_IN_part = csv_row_lower + 1 \n",
    "len_all, len_clean, len_IN_part, len_OUT_part"
   ]
  },
  {
   "cell_type": "code",
   "execution_count": 227,
   "id": "cfeb7ecb",
   "metadata": {},
   "outputs": [
    {
     "data": {
      "text/plain": [
       "(39.0,\n",
       " 50.0,\n",
       " 190.0,\n",
       " 0.0,\n",
       " array([ 2.,  2.,  0.,  1.,  3.,  1.,  1.,  3.,  2.,  0.,  2.,  3.,  6.,\n",
       "        13.]),\n",
       " array([ 4.,  2.,  3.,  0.,  2.,  1.,  0.,  1.,  1.,  2.,  1., 12., 14.,\n",
       "         7.]),\n",
       " array([13., 16., 17., 19., 15., 18., 19., 16., 17., 18., 17.,  5.,  0.,\n",
       "         0.]),\n",
       " array([0., 0., 0., 0., 0., 0., 0., 0., 0., 0., 0., 0., 0., 0.]))"
      ]
     },
     "execution_count": 227,
     "metadata": {},
     "output_type": "execute_result"
    }
   ],
   "source": [
    "arr0 = np.zeros([amount_intervalls])\n",
    "arr1 = np.zeros([amount_intervalls])\n",
    "arr2 = np.zeros([amount_intervalls])\n",
    "arr3 = np.zeros([amount_intervalls])\n",
    "upper_idx = len_IN_part // amount_intervalls\n",
    "lower_bound = data_all[csv_row_upper, arri_dq_t]\n",
    "for k in range(1,amount_intervalls+1):\n",
    "    arr_idx = k-1\n",
    "    upper_bound = data_all[((k*upper_idx)-1), arri_dq_t]\n",
    "    for i in range(len_IN_part):\n",
    "        time = data_all[i, arri_dq_t]\n",
    "        #print(i, lower_bound, time, upper_bound)\n",
    "        if lower_bound <= time < upper_bound:\n",
    "            match data_all[i,UID]:\n",
    "                case 0:\n",
    "                    if data_all[i,5] == 2:\n",
    "                        arr3[arr_idx] += 1\n",
    "                        continue\n",
    "                    arr0[arr_idx] += 1\n",
    "                    #print(\"0:\",arr0)\n",
    "                case 1:\n",
    "                    if data_all[i,5] == 2:\n",
    "                        arr3[arr_idx] += 1\n",
    "                        continue\n",
    "                    arr1[arr_idx] += 1\n",
    "                    #print(\"1:\",arr1)\n",
    "                case 2:\n",
    "                    if data_all[i,5] == 2:\n",
    "                        arr3[arr_idx] += 1\n",
    "                        continue\n",
    "                    arr2[arr_idx] += 1\n",
    "                    #print(\"2:\",arr2)\n",
    "    lower_bound = upper_bound\n",
    "    #print(\"--------\")\n",
    "    \n",
    "arr0.sum(), arr1.sum(), arr2.sum(),arr3.sum(),arr0, arr1, arr2, arr3\n",
    "        "
   ]
  },
  {
   "cell_type": "code",
   "execution_count": 228,
   "id": "2c887994",
   "metadata": {
    "scrolled": false
   },
   "outputs": [
    {
     "data": {
      "image/png": "[encoded data removed]",
      "text/plain": [
       "<Figure size 1200x800 with 1 Axes>"
      ]
     },
     "metadata": {},
     "output_type": "display_data"
    },
    {
     "data": {
      "text/plain": [
       "(39.0,\n",
       " 50.0,\n",
       " 190.0,\n",
       " 0.0,\n",
       " array([ 2.,  2.,  0.,  1.,  3.,  1.,  1.,  3.,  2.,  0.,  2.,  3.,  6.,\n",
       "        13.]),\n",
       " array([ 4.,  2.,  3.,  0.,  2.,  1.,  0.,  1.,  1.,  2.,  1., 12., 14.,\n",
       "         7.]),\n",
       " array([13., 16., 17., 19., 15., 18., 19., 16., 17., 18., 17.,  5.,  0.,\n",
       "         0.]),\n",
       " array([0., 0., 0., 0., 0., 0., 0., 0., 0., 0., 0., 0., 0., 0.]))"
      ]
     },
     "execution_count": 228,
     "metadata": {},
     "output_type": "execute_result"
    }
   ],
   "source": [
    "\n",
    "x = [i for i in range(amount_intervalls)]\n",
    "width=0.25\n",
    "#alpha=0.5\n",
    "ax = plt.figure(figsize=[12, 8])\n",
    "plt.bar(np.arange(len(arr0)) ,arr0, width,align='center', label='User 0' , color='g')\n",
    "plt.bar(np.arange(len(arr1)) + width ,arr1, width, align='center',  label='User 1', color='b')\n",
    "plt.bar(np.arange(len(arr2)) + width*2,arr2, width,align='center',label='User 2' , color='r')\n",
    "#plt.bar(np.arange(len(arr3)) + width*3,arr3, width,align='center',label='Rejected' , color='black')\n",
    "plt.xlabel('Time interval')\n",
    "plt.ylabel('Number of incoming requests')\n",
    "plt.suptitle('Number of incoming requests over time intervals', fontsize=16)#, y=1.00)\n",
    "plt.title('(from three different users)')\n",
    "plt.xticks(np.arange(len(x)+ width))\n",
    "plt.legend()\n",
    "\n",
    "plt.show()\n",
    "\n",
    "arr0.sum(),arr1.sum(),arr2.sum(),arr3.sum(),arr0, arr1, arr2, arr3"
   ]
  },
  {
   "cell_type": "code",
   "execution_count": null,
   "id": "8f83d56b",
   "metadata": {},
   "outputs": [],
   "source": []
  },
  {
   "cell_type": "code",
   "execution_count": null,
   "id": "fa26d20c",
   "metadata": {},
   "outputs": [],
   "source": []
  }
 ],
 "metadata": {
  "kernelspec": {
   "display_name": "Python 3 (ipykernel)",
   "language": "python",
   "name": "python3"
  },
  "language_info": {
   "codemirror_mode": {
    "name": "ipython",
    "version": 3
   },
   "file_extension": ".py",
   "mimetype": "text/x-python",
   "name": "python",
   "nbconvert_exporter": "python",
   "pygments_lexer": "ipython3",
   "version": "3.11.5"
  }
 },
 "nbformat": 4,
 "nbformat_minor": 5
}
